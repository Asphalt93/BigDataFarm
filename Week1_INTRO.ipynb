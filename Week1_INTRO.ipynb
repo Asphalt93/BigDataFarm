{
 "cells": [
  {
   "cell_type": "markdown",
   "metadata": {},
   "source": [
    "<H1> <div style=\"text-align: center\" > 빅데이터팜 - 1st week (실습) </div> </H1>"
   ]
  },
  {
   "cell_type": "markdown",
   "metadata": {},
   "source": [
    "<H3> <div style=\"text-align: right\" > 김재훈 </div> </H3>"
   ]
  },
  {
   "cell_type": "markdown",
   "metadata": {},
   "source": [
    "## math 라이브러리에서 sin 함수를 불어오기 + format()로 출력"
   ]
  },
  {
   "cell_type": "code",
   "execution_count": null,
   "metadata": {},
   "outputs": [],
   "source": [
    "from math import sin"
   ]
  },
  {
   "cell_type": "code",
   "execution_count": 3,
   "metadata": {},
   "outputs": [
    {
     "name": "stdout",
     "output_type": "stream",
     "text": [
      "Hello world, sin(10.0) = -0.5440211108893698\n"
     ]
    }
   ],
   "source": [
    "x = float(10)\n",
    "print(\n",
    "    \"Hello world, sin({0}) = {1}\". format(x, sin(x))\n",
    ")"
   ]
  },
  {
   "cell_type": "markdown",
   "metadata": {},
   "source": [
    "## 파이썬 소스코드파일 주피터 노트북에서 실행해보기"
   ]
  },
  {
   "cell_type": "code",
   "execution_count": 4,
   "metadata": {},
   "outputs": [
    {
     "name": "stdout",
     "output_type": "stream",
     "text": [
      "I ran python script.\n"
     ]
    }
   ],
   "source": [
    "%run test.py"
   ]
  },
  {
   "cell_type": "markdown",
   "metadata": {},
   "source": [
    " "
   ]
  },
  {
   "attachments": {},
   "cell_type": "markdown",
   "metadata": {},
   "source": [
    "## 실습문제 01\n",
    "<br>\n",
    "strdata = 'Time IS money!’<br>\n",
    "위의 스트링을 가지고 슬라이싱 문법을 사용해서 아래와 같은 3가지 스트링을 만들어보세요~<br>\n",
    "<br>\n",
    "1) ime <br> \n",
    "2) Time IS <br>\n",
    "3) oney!\n"
   ]
  },
  {
   "cell_type": "code",
   "execution_count": 8,
   "metadata": {},
   "outputs": [],
   "source": [
    "strdata = 'Time IS money!'"
   ]
  },
  {
   "cell_type": "code",
   "execution_count": 9,
   "metadata": {},
   "outputs": [
    {
     "data": {
      "text/plain": [
       "'ime'"
      ]
     },
     "execution_count": 9,
     "metadata": {},
     "output_type": "execute_result"
    }
   ],
   "source": [
    "strdata[1:4]"
   ]
  },
  {
   "cell_type": "code",
   "execution_count": 11,
   "metadata": {},
   "outputs": [
    {
     "data": {
      "text/plain": [
       "'Time IS'"
      ]
     },
     "execution_count": 11,
     "metadata": {},
     "output_type": "execute_result"
    }
   ],
   "source": [
    "strdata[:7]"
   ]
  },
  {
   "cell_type": "code",
   "execution_count": 16,
   "metadata": {},
   "outputs": [
    {
     "data": {
      "text/plain": [
       "'oney!'"
      ]
     },
     "execution_count": 16,
     "metadata": {},
     "output_type": "execute_result"
    }
   ],
   "source": [
    "strdata[-5:]"
   ]
  },
  {
   "cell_type": "markdown",
   "metadata": {},
   "source": [
    " "
   ]
  },
  {
   "cell_type": "markdown",
   "metadata": {},
   "source": [
    "## 실습문제 02\n",
    "<br>\n",
    "Given an input string, reverse the string word by word.\n",
    "<br>\n",
    "<b>Example</b><br>\n",
    "<br>\n",
    "Input : \"the sky is blue\",<br>\n",
    "Output : \"blue is sky the\""
   ]
  },
  {
   "cell_type": "code",
   "execution_count": 17,
   "metadata": {},
   "outputs": [],
   "source": [
    "input_ = \"the sky is blue\""
   ]
  },
  {
   "cell_type": "code",
   "execution_count": 25,
   "metadata": {},
   "outputs": [],
   "source": [
    "output_ = \" \".join(input_.split(\" \")[::-1])"
   ]
  },
  {
   "cell_type": "code",
   "execution_count": 26,
   "metadata": {},
   "outputs": [
    {
     "name": "stdout",
     "output_type": "stream",
     "text": [
      "blue is sky the\n"
     ]
    }
   ],
   "source": [
    "print(output_)"
   ]
  },
  {
   "cell_type": "markdown",
   "metadata": {},
   "source": [
    " "
   ]
  },
  {
   "cell_type": "markdown",
   "metadata": {},
   "source": [
    "## 실습문제 03\n",
    "<br>\n",
    "make a list of tuples. <br>\n",
    "in each tuple contains Barcelona to the other. <br>\n",
    "<br>\n",
    "예) [(Barcelona, Barcelona), (Barcelona, Belgrade), ... ]"
   ]
  },
  {
   "cell_type": "code",
   "execution_count": 30,
   "metadata": {},
   "outputs": [],
   "source": [
    "city = \"Barcelona;Belgrade;Berlin;Brussels;Bucharest;Budapest;Copenhagen;Dublin;Hamburg;Istanbul\".split(\";\")"
   ]
  },
  {
   "cell_type": "code",
   "execution_count": 33,
   "metadata": {},
   "outputs": [],
   "source": [
    "result = [(city[0], _) for _ in city]"
   ]
  },
  {
   "cell_type": "code",
   "execution_count": 34,
   "metadata": {},
   "outputs": [
    {
     "data": {
      "text/plain": [
       "[('Barcelona', 'Barcelona'),\n",
       " ('Barcelona', 'Belgrade'),\n",
       " ('Barcelona', 'Berlin'),\n",
       " ('Barcelona', 'Brussels'),\n",
       " ('Barcelona', 'Bucharest'),\n",
       " ('Barcelona', 'Budapest'),\n",
       " ('Barcelona', 'Copenhagen'),\n",
       " ('Barcelona', 'Dublin'),\n",
       " ('Barcelona', 'Hamburg'),\n",
       " ('Barcelona', 'Istanbul')]"
      ]
     },
     "execution_count": 34,
     "metadata": {},
     "output_type": "execute_result"
    }
   ],
   "source": [
    "result"
   ]
  },
  {
   "cell_type": "markdown",
   "metadata": {},
   "source": [
    " "
   ]
  },
  {
   "cell_type": "markdown",
   "metadata": {},
   "source": [
    "## 실습문제 04\n",
    "<br>\n",
    "<b>For룹을 쓰면??</b> <br>\n",
    "squares = \\[\\] <br>\n",
    "for x in range(10):<br>\n",
    "&nbsp;&nbsp;&nbsp;&nbsp;squares.append(x\\*\\*2)<br>\n",
    "<br>\n",
    "<b>List Comprehensions을 쓰면? </b> <br>\n",
    "squares = \\[x\\**2 for x in range(10)\\]<br>\n",
    "\n",
    "fib = \\[1,1\\] 라는 리스트가 주어졌다. <br>\n",
    "저 리스트에 append해가면서 리스트 컴프리핸션을 사용해 한 줄로 피보나치 수열을 계산하는 코드를 작성하시오."
   ]
  },
  {
   "cell_type": "code",
   "execution_count": 64,
   "metadata": {},
   "outputs": [],
   "source": [
    "fib = [1,1]"
   ]
  },
  {
   "cell_type": "code",
   "execution_count": 65,
   "metadata": {},
   "outputs": [
    {
     "data": {
      "text/plain": [
       "[None, None, None, None, None, None, None, None, None, None]"
      ]
     },
     "execution_count": 65,
     "metadata": {},
     "output_type": "execute_result"
    }
   ],
   "source": [
    "[ fib.append(fib[_] + fib[_+1]) for _ in range(10) ]"
   ]
  },
  {
   "cell_type": "code",
   "execution_count": 66,
   "metadata": {},
   "outputs": [
    {
     "data": {
      "text/plain": [
       "[1, 1, 2, 3, 5, 8, 13, 21, 34, 55, 89, 144]"
      ]
     },
     "execution_count": 66,
     "metadata": {},
     "output_type": "execute_result"
    }
   ],
   "source": [
    "fib"
   ]
  },
  {
   "cell_type": "markdown",
   "metadata": {},
   "source": [
    " "
   ]
  },
  {
   "cell_type": "markdown",
   "metadata": {},
   "source": [
    "## 제너레이터 실습\n",
    "<br>\n",
    "next()라는 빌트인 메서드를 통해 제너레이터를 실행시킬 수 있으며<br> next() 메서드는 내부적으로 iterator를 인자로 받아 이터레이터의 &#95;&#95;next&#95;&#95;() 메서드를 실행시킨다."
   ]
  },
  {
   "cell_type": "code",
   "execution_count": 48,
   "metadata": {},
   "outputs": [
    {
     "name": "stdout",
     "output_type": "stream",
     "text": [
      "<generator object generator at 0x0000022214CB4728>\n",
      "1\n",
      "string\n",
      "True\n"
     ]
    }
   ],
   "source": [
    "def generator():\n",
    "    yield 1\n",
    "    yield 'string'\n",
    "    yield True\n",
    "\n",
    "gen = generator()\n",
    "\n",
    "print(generator())\n",
    "print(next(gen))\n",
    "print(next(gen))\n",
    "print(next(gen))"
   ]
  }
 ],
 "metadata": {
  "kernelspec": {
   "display_name": "Python 3",
   "language": "python",
   "name": "python3"
  },
  "language_info": {
   "codemirror_mode": {
    "name": "ipython",
    "version": 3
   },
   "file_extension": ".py",
   "mimetype": "text/x-python",
   "name": "python",
   "nbconvert_exporter": "python",
   "pygments_lexer": "ipython3",
   "version": "3.6.4"
  }
 },
 "nbformat": 4,
 "nbformat_minor": 2
}
